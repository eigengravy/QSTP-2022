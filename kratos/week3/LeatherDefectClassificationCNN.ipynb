{
  "nbformat": 4,
  "nbformat_minor": 0,
  "metadata": {
    "colab": {
      "name": "LeatherDefectClassificationCNN.ipynb",
      "provenance": [],
      "collapsed_sections": []
    },
    "kernelspec": {
      "name": "python3",
      "display_name": "Python 3"
    },
    "language_info": {
      "name": "python"
    },
    "accelerator": "GPU",
    "gpuClass": "standard"
  },
  "cells": [
    {
      "cell_type": "code",
      "execution_count": 84,
      "metadata": {
        "id": "DNOZJJSSs90X"
      },
      "outputs": [],
      "source": [
        "import numpy as np\n",
        "import pandas as pd\n",
        "import matplotlib.pyplot as plt\n",
        "\n",
        "import torch\n",
        "from torch import optim, nn\n",
        "import torch.nn.functional as F \n",
        "\n",
        "from torchvision import transforms\n",
        "from torchvision.datasets import ImageFolder\n",
        "from torch.utils.data import TensorDataset, DataLoader, random_split"
      ]
    },
    {
      "cell_type": "code",
      "source": [
        "torch.manual_seed(0)\n",
        "device = torch.device(\"cuda:0\" if torch.cuda.is_available() else \"cpu\")"
      ],
      "metadata": {
        "id": "9VSfMhx7uBnV"
      },
      "execution_count": 85,
      "outputs": []
    },
    {
      "cell_type": "code",
      "source": [
        "from google.colab import drive\n",
        "drive.mount('/content/drive')"
      ],
      "metadata": {
        "id": "mYIZWbipuITb",
        "colab": {
          "base_uri": "https://localhost:8080/"
        },
        "outputId": "2c3d5498-ef01-4031-bcfc-caa061fc4b62"
      },
      "execution_count": 86,
      "outputs": [
        {
          "output_type": "stream",
          "name": "stdout",
          "text": [
            "Drive already mounted at /content/drive; to attempt to forcibly remount, call drive.mount(\"/content/drive\", force_remount=True).\n"
          ]
        }
      ]
    },
    {
      "cell_type": "code",
      "source": [
        "path = \"drive/MyDrive/Colab Notebooks/Datasets/Leather Defect Classification\"\n",
        "train_test_split = 0.2\n",
        "transform = transforms.Compose([\n",
        "  transforms.ToTensor(),\n",
        "  transforms.Resize((32,32)),\n",
        "  ])\n",
        "dataset = ImageFolder(root=path, transform=transform)\n",
        "size = len(dataset)\n",
        "test_size = int(train_test_split * size)\n",
        "train_size = size - test_size\n",
        "train_dataset, test_dataset = random_split(dataset, [train_size, test_size])"
      ],
      "metadata": {
        "id": "7KKSG2zKu0xT"
      },
      "execution_count": 112,
      "outputs": []
    },
    {
      "cell_type": "code",
      "source": [
        "batch_size = 40\n",
        "train_loader = DataLoader(train_dataset, batch_size=batch_size, shuffle=True)\n",
        "test_loader = DataLoader(test_dataset, batch_size=batch_size, shuffle=False)"
      ],
      "metadata": {
        "id": "39nY3E3mPGoB"
      },
      "execution_count": 113,
      "outputs": []
    },
    {
      "cell_type": "code",
      "source": [
        "class LeatherDefectCNN(nn.Module):\n",
        "  def __init__(self, output_dim):\n",
        "    super(LeatherDefectCNN, self).__init__()\n",
        "\n",
        "    self.conv1 = nn.Conv2d(3, 6, 5)\n",
        "    self.conv2 = nn.Conv2d(6, 16, 5)\n",
        "\n",
        "    self.fc1 = nn.Linear(16*5*5, 120)\n",
        "    self.fc2 = nn.Linear(120, 84)\n",
        "    self.fc3 = nn.Linear(84, output_dim)\n",
        "\n",
        "    self.dropout = nn.Dropout(0.3)\n",
        "\n",
        "  def forward(self, x):\n",
        "    x = F.max_pool2d(F.relu(self.conv1(x)), 2)\n",
        "    x = F.max_pool2d(F.relu(self.conv2(x)), 2)\n",
        "    x = torch.flatten(x, 1) \n",
        "    x = self.dropout(F.relu(self.fc1(x)))\n",
        "    x = self.dropout(F.relu(self.fc2(x)))\n",
        "    x = F.softmax(self.fc3(x),dim=1)\n",
        "    return x              "
      ],
      "metadata": {
        "id": "fpz0LPeVtclW"
      },
      "execution_count": 123,
      "outputs": []
    },
    {
      "cell_type": "code",
      "source": [
        "def calc_accuracy(a, y):                            \n",
        "  a = torch.max(a, dim=1)[1]\n",
        "  assert not torch.any(torch.isnan(a))\n",
        "  return torch.mean((a == y).float()).item()"
      ],
      "metadata": {
        "id": "OSWDS9luw85Y"
      },
      "execution_count": 120,
      "outputs": []
    },
    {
      "cell_type": "code",
      "source": [
        "model = LeatherDefectCNN(6).to(device)\n",
        "\n",
        "optimizer = optim.Adam(model.parameters(), lr=0.001)"
      ],
      "metadata": {
        "id": "K-A8nXfbtgNI"
      },
      "execution_count": 126,
      "outputs": []
    },
    {
      "cell_type": "code",
      "source": [
        "num_epochs = 50\n",
        "\n",
        "for epoch in range(num_epochs):\n",
        "  for image, label in train_loader:\n",
        "    image, label = image.to(device), label.to(device)\n",
        "    z = model(image)\n",
        "    loss = F.cross_entropy(z, label)\n",
        "\n",
        "    optimizer.zero_grad()      \n",
        "    loss.backward()\n",
        "    optimizer.step()\n",
        "\n",
        "  test_accuracy = 0\n",
        "  for image, label in test_loader:\n",
        "    image, label = image.to(device), label.to(device)\n",
        "    z = model(image)\n",
        "    accuracy = calc_accuracy(z, label)\n",
        "    test_accuracy += accuracy / len(test_dataset) * batch_size\n",
        "\n",
        "  print(\"Epoch: {} Accuracy: {}\".format(epoch, round(100*test_accuracy, 3)))\n",
        "    "
      ],
      "metadata": {
        "id": "-SFzZViwtgsN",
        "colab": {
          "base_uri": "https://localhost:8080/"
        },
        "outputId": "c6bbe262-1dda-4251-dfcf-01fe6ce257ae"
      },
      "execution_count": 127,
      "outputs": [
        {
          "output_type": "stream",
          "name": "stdout",
          "text": [
            "Epoch: 0 Accuracy: 37.639\n",
            "Epoch: 1 Accuracy: 40.972\n",
            "Epoch: 2 Accuracy: 43.194\n",
            "Epoch: 3 Accuracy: 38.889\n",
            "Epoch: 4 Accuracy: 45.0\n",
            "Epoch: 5 Accuracy: 44.167\n",
            "Epoch: 6 Accuracy: 47.778\n",
            "Epoch: 7 Accuracy: 48.75\n",
            "Epoch: 8 Accuracy: 49.583\n",
            "Epoch: 9 Accuracy: 46.528\n",
            "Epoch: 10 Accuracy: 50.139\n",
            "Epoch: 11 Accuracy: 47.639\n",
            "Epoch: 12 Accuracy: 50.417\n",
            "Epoch: 13 Accuracy: 46.111\n",
            "Epoch: 14 Accuracy: 50.972\n",
            "Epoch: 15 Accuracy: 53.056\n",
            "Epoch: 16 Accuracy: 53.472\n",
            "Epoch: 17 Accuracy: 50.694\n",
            "Epoch: 18 Accuracy: 56.806\n",
            "Epoch: 19 Accuracy: 52.083\n",
            "Epoch: 20 Accuracy: 46.944\n",
            "Epoch: 21 Accuracy: 54.861\n",
            "Epoch: 22 Accuracy: 59.306\n",
            "Epoch: 23 Accuracy: 59.722\n",
            "Epoch: 24 Accuracy: 51.528\n",
            "Epoch: 25 Accuracy: 55.139\n",
            "Epoch: 26 Accuracy: 51.25\n",
            "Epoch: 27 Accuracy: 57.083\n",
            "Epoch: 28 Accuracy: 59.444\n",
            "Epoch: 29 Accuracy: 63.472\n",
            "Epoch: 30 Accuracy: 64.444\n",
            "Epoch: 31 Accuracy: 65.694\n",
            "Epoch: 32 Accuracy: 52.778\n",
            "Epoch: 33 Accuracy: 64.583\n",
            "Epoch: 34 Accuracy: 57.361\n",
            "Epoch: 35 Accuracy: 64.444\n",
            "Epoch: 36 Accuracy: 58.333\n",
            "Epoch: 37 Accuracy: 65.556\n",
            "Epoch: 38 Accuracy: 66.389\n",
            "Epoch: 39 Accuracy: 61.389\n",
            "Epoch: 40 Accuracy: 60.972\n",
            "Epoch: 41 Accuracy: 56.806\n",
            "Epoch: 42 Accuracy: 57.639\n",
            "Epoch: 43 Accuracy: 67.361\n",
            "Epoch: 44 Accuracy: 66.25\n",
            "Epoch: 45 Accuracy: 64.167\n",
            "Epoch: 46 Accuracy: 55.833\n",
            "Epoch: 47 Accuracy: 66.528\n",
            "Epoch: 48 Accuracy: 67.639\n",
            "Epoch: 49 Accuracy: 66.111\n"
          ]
        }
      ]
    },
    {
      "cell_type": "code",
      "source": [
        "def predict(image):\n",
        "  return torch.max(model(image.to(device).unsqueeze(0)), dim=1)[1].item()"
      ],
      "metadata": {
        "id": "H1Fl1J9R_pKZ"
      },
      "execution_count": 132,
      "outputs": []
    },
    {
      "cell_type": "code",
      "source": [
        "import matplotlib.pyplot as plt"
      ],
      "metadata": {
        "id": "VO4atoiXn8pv"
      },
      "execution_count": 133,
      "outputs": []
    },
    {
      "cell_type": "code",
      "source": [
        "test_item = test_dataset[0]\n",
        "plt.imshow(test_item[0].permute(1, 2, 0).numpy(), cmap='gray')\n",
        "print(\"Prediction:\", predict(test_item[0]),\"| Label:\",test_item[1])"
      ],
      "metadata": {
        "colab": {
          "base_uri": "https://localhost:8080/",
          "height": 283
        },
        "id": "vuoy80k7n76m",
        "outputId": "257da6e3-b17d-4509-d113-62a70e2e0b7c"
      },
      "execution_count": 134,
      "outputs": [
        {
          "output_type": "stream",
          "name": "stdout",
          "text": [
            "Prediction: 0 | Label: 5\n"
          ]
        },
        {
          "output_type": "display_data",
          "data": {
            "text/plain": [
              "<Figure size 432x288 with 1 Axes>"
            ],
            "image/png": "[encoded data removed]"
          },
          "metadata": {
            "needs_background": "light"
          }
        }
      ]
    },
    {
      "cell_type": "code",
      "source": [
        "test_item = test_dataset[5]\n",
        "plt.imshow(test_item[0].permute(1, 2, 0).numpy(), cmap='gray')\n",
        "print(\"Prediction:\", predict(test_item[0]),\"| Label:\",test_item[1])"
      ],
      "metadata": {
        "colab": {
          "base_uri": "https://localhost:8080/",
          "height": 283
        },
        "outputId": "653f81a8-b40c-420a-9407-8c1230246051",
        "id": "Elz_xTagwzWp"
      },
      "execution_count": 140,
      "outputs": [
        {
          "output_type": "stream",
          "name": "stdout",
          "text": [
            "Prediction: 4 | Label: 1\n"
          ]
        },
        {
          "output_type": "display_data",
          "data": {
            "text/plain": [
              "<Figure size 432x288 with 1 Axes>"
            ],
            "image/png": "[encoded data removed]"
          },
          "metadata": {
            "needs_background": "light"
          }
        }
      ]
    },
    {
      "cell_type": "code",
      "source": [
        "test_item = test_dataset[100]\n",
        "plt.imshow(test_item[0].permute(1, 2, 0).numpy(), cmap='gray')\n",
        "print(\"Prediction:\", predict(test_item[0]),\"| Label:\",test_item[1])"
      ],
      "metadata": {
        "colab": {
          "base_uri": "https://localhost:8080/",
          "height": 283
        },
        "outputId": "26f3b882-bb88-44c7-8bea-5278130e59e3",
        "id": "JS2mYfldwzmL"
      },
      "execution_count": 139,
      "outputs": [
        {
          "output_type": "stream",
          "name": "stdout",
          "text": [
            "Prediction: 0 | Label: 1\n"
          ]
        },
        {
          "output_type": "display_data",
          "data": {
            "text/plain": [
              "<Figure size 432x288 with 1 Axes>"
            ],
            "image/png": "[encoded data removed]"
          },
          "metadata": {
            "needs_background": "light"
          }
        }
      ]
    },
    {
      "cell_type": "code",
      "source": [
        "test_item = test_dataset[178]\n",
        "plt.imshow(test_item[0].permute(1, 2, 0).numpy(), cmap='gray')\n",
        "print(\"Prediction:\", predict(test_item[0]),\"| Label:\",test_item[1])"
      ],
      "metadata": {
        "colab": {
          "base_uri": "https://localhost:8080/",
          "height": 283
        },
        "outputId": "622960a8-e19c-4e41-9069-1abab33a3cda",
        "id": "azdrtM5Pwzux"
      },
      "execution_count": 138,
      "outputs": [
        {
          "output_type": "stream",
          "name": "stdout",
          "text": [
            "Prediction: 3 | Label: 3\n"
          ]
        },
        {
          "output_type": "display_data",
          "data": {
            "text/plain": [
              "<Figure size 432x288 with 1 Axes>"
            ],
            "image/png": "[encoded data removed]"
          },
          "metadata": {
            "needs_background": "light"
          }
        }
      ]
    },
    {
      "cell_type": "code",
      "source": [
        "test_item = test_dataset[420]\n",
        "plt.imshow(test_item[0].permute(1, 2, 0).numpy(), cmap='gray')\n",
        "print(\"Prediction:\", predict(test_item[0]),\"| Label:\",test_item[1])"
      ],
      "metadata": {
        "colab": {
          "base_uri": "https://localhost:8080/",
          "height": 283
        },
        "outputId": "3933a136-75d2-42a7-9233-e8f95d76accf",
        "id": "9HVv33oWwz4L"
      },
      "execution_count": 137,
      "outputs": [
        {
          "output_type": "stream",
          "name": "stdout",
          "text": [
            "Prediction: 4 | Label: 1\n"
          ]
        },
        {
          "output_type": "display_data",
          "data": {
            "text/plain": [
              "<Figure size 432x288 with 1 Axes>"
            ],
            "image/png": "[encoded data removed]"
          },
          "metadata": {
            "needs_background": "light"
          }
        }
      ]
    },
    {
      "cell_type": "code",
      "source": [
        "test_item = test_dataset[42]\n",
        "plt.imshow(test_item[0].permute(1, 2, 0).numpy(), cmap='gray')\n",
        "print(\"Prediction:\", predict(test_item[0]),\"| Label:\",test_item[1])"
      ],
      "metadata": {
        "colab": {
          "base_uri": "https://localhost:8080/",
          "height": 283
        },
        "outputId": "cb97dbc3-53c3-4e4d-b0a6-53b8c1dc2f52",
        "id": "JIEWOsOXw0DS"
      },
      "execution_count": 136,
      "outputs": [
        {
          "output_type": "stream",
          "name": "stdout",
          "text": [
            "Prediction: 3 | Label: 3\n"
          ]
        },
        {
          "output_type": "display_data",
          "data": {
            "text/plain": [
              "<Figure size 432x288 with 1 Axes>"
            ],
            "image/png": "[encoded data removed]"
          },
          "metadata": {
            "needs_background": "light"
          }
        }
      ]
    }
  ]
}