{
  "nbformat": 4,
  "nbformat_minor": 0,
  "metadata": {
    "colab": {
      "name": "LeatherDefectClassificationCNN.ipynb",
      "provenance": [],
      "collapsed_sections": []
    },
    "kernelspec": {
      "name": "python3",
      "display_name": "Python 3"
    },
    "language_info": {
      "name": "python"
    }
  },
  "cells": [
    {
      "cell_type": "code",
      "execution_count": null,
      "metadata": {
        "id": "DNOZJJSSs90X"
      },
      "outputs": [],
      "source": [
        "import numpy as np\n",
        "import pandas as pd\n",
        "import matplotlib.pyplot as plt\n",
        "\n",
        "import torch\n",
        "from torch import optim, nn\n",
        "import torch.nn.functional as F \n",
        "\n",
        "from torchvision import transforms\n",
        "from torchvision.datasets import ImageFolder\n",
        "from torch.utils.data import TensorDataset, DataLoader, random_split"
      ]
    },
    {
      "cell_type": "code",
      "source": [
        "torch.manual_seed(0)"
      ],
      "metadata": {
        "id": "9VSfMhx7uBnV"
      },
      "execution_count": null,
      "outputs": []
    },
    {
      "cell_type": "code",
      "source": [
        "from google.colab import drive\n",
        "drive.mount('/content/drive')"
      ],
      "metadata": {
        "id": "mYIZWbipuITb"
      },
      "execution_count": null,
      "outputs": []
    },
    {
      "cell_type": "code",
      "source": [
        "path = \"drive/MyDrive/Colab Notebooks/Datasets/Leather Defect Classification\"\n",
        "train_test_split = 0.2\n",
        "transform = transforms.Compose([\n",
        "    transforms.ToTensor(),\n",
        "    transforms.Resize((32,32)),\n",
        "    ])\n",
        "dataset = ImageFolder(root=path, transform=transform)\n",
        "size = len(dataset)\n",
        "test_size = int(train_test_split * size)\n",
        "train_size = size - test_size\n",
        "train_dataset, test_dataset = random_split(dataset, [train_size, test_size])"
      ],
      "metadata": {
        "id": "7KKSG2zKu0xT"
      },
      "execution_count": null,
      "outputs": []
    },
    {
      "cell_type": "code",
      "source": [
        "batch_size = 40\n",
        "train_loader = DataLoader(train_dataset, batch_size=batch_size, shuffle=True)\n",
        "test_loader = DataLoader(test_dataset, batch_size=batch_size, shuffle=False)"
      ],
      "metadata": {
        "id": "39nY3E3mPGoB"
      },
      "execution_count": null,
      "outputs": []
    },
    {
      "cell_type": "code",
      "source": [
        "class LeatherDefectCNN(nn.Module):\n",
        "    def __init__(self, output_dim):\n",
        "        super(LeatherDefectCNN, self).__init__()\n",
        "\n",
        "        self.conv1 = nn.Conv2d(3, 6, 5)\n",
        "        self.conv2 = nn.Conv2d(6, 16, 5)\n",
        "\n",
        "        self.fc1 = nn.Linear(16*5*5, 120)\n",
        "        self.fc2 = nn.Linear(120, 84)\n",
        "        self.fc3 = nn.Linear(84, output_dim)\n",
        "\n",
        "        self.dropout = nn.Dropout(0.3)\n",
        "\n",
        "    def forward(self, x):\n",
        "       \n",
        "        x = F.max_pool2d(F.relu(self.conv1(x)), 2)\n",
        "        x = F.max_pool2d(F.relu(self.conv2(x)), 2)\n",
        "        x = torch.flatten(x, 1) \n",
        "        x = F.relu(self.fc1(x))\n",
        "        x = self.dropout(F.relu(self.fc2(x)))\n",
        "        x = F.softmax(self.fc3(x),dim=1)\n",
        "        return x              "
      ],
      "metadata": {
        "id": "fpz0LPeVtclW"
      },
      "execution_count": null,
      "outputs": []
    },
    {
      "cell_type": "code",
      "source": [
        "def calc_accuracy(a, y):                            \n",
        "    a = torch.max(a, dim=1)[1]\n",
        "    assert not torch.any(torch.isnan(a))\n",
        "    return torch.mean((a == y).float()).item()"
      ],
      "metadata": {
        "id": "OSWDS9luw85Y"
      },
      "execution_count": null,
      "outputs": []
    },
    {
      "cell_type": "code",
      "source": [
        "model = LeatherDefectCNN(6)\n",
        "\n",
        "optimizer = optim.Adam(model.parameters(), lr=0.001)"
      ],
      "metadata": {
        "id": "K-A8nXfbtgNI"
      },
      "execution_count": null,
      "outputs": []
    },
    {
      "cell_type": "code",
      "source": [
        "num_epochs = 100\n",
        "loss_history = []\n",
        "accuracy_history = []\n",
        "\n",
        "for epoch in range(num_epochs):\n",
        "    epoch_loss = 0\n",
        "    epoch_accuracy = 0\n",
        "    for image, label in train_loader:\n",
        "        z = model(image)\n",
        "        loss = F.cross_entropy(z, label)\n",
        "        accuracy = calc_accuracy(z, label)\n",
        "\n",
        "        optimizer.zero_grad()      \n",
        "        loss.backward()\n",
        "        optimizer.step()\n",
        "\n",
        "        epoch_loss += loss.item() / len(train_dataset) * batch_size\n",
        "        epoch_accuracy += accuracy / len(train_dataset) * batch_size\n",
        "    \n",
        "    loss_history.append(epoch_loss)\n",
        "    accuracy_history.append(epoch_accuracy)\n",
        "\n",
        "    if epoch % 5 == 0:\n",
        "        print(\"Epoch: {}, Loss: {}, Accuracy: {}\".format(epoch, round(epoch_loss, 3), round(100*epoch_accuracy, 3)))"
      ],
      "metadata": {
        "id": "-SFzZViwtgsN",
        "colab": {
          "base_uri": "https://localhost:8080/"
        },
        "outputId": "b682fc43-4d61-42fb-f588-6e50b8c620d4"
      },
      "execution_count": null,
      "outputs": [
        {
          "output_type": "stream",
          "name": "stdout",
          "text": [
            "Epoch: 0, Loss: 1.44, Accuracy: 60.451\n",
            "Epoch: 5, Loss: 1.431, Accuracy: 61.319\n",
            "Epoch: 10, Loss: 1.427, Accuracy: 61.91\n",
            "Epoch: 15, Loss: 1.439, Accuracy: 60.313\n",
            "Epoch: 20, Loss: 1.429, Accuracy: 61.389\n",
            "Epoch: 25, Loss: 1.428, Accuracy: 61.667\n",
            "Epoch: 30, Loss: 1.413, Accuracy: 63.021\n",
            "Epoch: 35, Loss: 1.389, Accuracy: 65.833\n",
            "Epoch: 40, Loss: 1.428, Accuracy: 61.458\n",
            "Epoch: 45, Loss: 1.379, Accuracy: 66.493\n",
            "Epoch: 50, Loss: 1.383, Accuracy: 66.007\n",
            "Epoch: 55, Loss: 1.377, Accuracy: 66.736\n",
            "Epoch: 60, Loss: 1.373, Accuracy: 67.083\n",
            "Epoch: 65, Loss: 1.379, Accuracy: 66.389\n",
            "Epoch: 70, Loss: 1.373, Accuracy: 67.014\n",
            "Epoch: 75, Loss: 1.37, Accuracy: 67.396\n",
            "Epoch: 80, Loss: 1.356, Accuracy: 68.924\n",
            "Epoch: 85, Loss: 1.417, Accuracy: 62.569\n",
            "Epoch: 90, Loss: 1.412, Accuracy: 63.021\n",
            "Epoch: 95, Loss: 1.413, Accuracy: 63.021\n"
          ]
        }
      ]
    },
    {
      "cell_type": "code",
      "source": [
        "num_epochs = 5\n",
        "avg_loss = 0\n",
        "avg_accuracy = 0\n",
        "\n",
        "for epoch in range(num_epochs):\n",
        "    epoch_loss = 0\n",
        "    epoch_accuracy = 0\n",
        "    for image, label in test_loader:\n",
        "        z = model(image)\n",
        "        loss = F.cross_entropy(z, label)\n",
        "        accuracy = calc_accuracy(z, label)\n",
        "\n",
        "        epoch_loss += loss.item() / len(test_dataset) * batch_size\n",
        "        epoch_accuracy += accuracy / len(test_dataset) * batch_size\n",
        "\n",
        "    avg_loss += epoch_loss / num_epochs\n",
        "    avg_accuracy += epoch_accuracy / num_epochs\n",
        "\n",
        "print(\"Number of Epochs tested: {}, Average loss: {}, Average Accuracy: {}\".format(num_epochs, round(avg_loss, 3), round(100*avg_accuracy, 3)))"
      ],
      "metadata": {
        "id": "bnQhcoyS0OdK",
        "colab": {
          "base_uri": "https://localhost:8080/"
        },
        "outputId": "5f5918db-a73d-4799-b39f-edcd6253c787"
      },
      "execution_count": null,
      "outputs": [
        {
          "output_type": "stream",
          "name": "stdout",
          "text": [
            "Number of Epochs tested: 5, Average loss: 1.343, Average Accuracy: 70.056\n"
          ]
        }
      ]
    }
  ]
}