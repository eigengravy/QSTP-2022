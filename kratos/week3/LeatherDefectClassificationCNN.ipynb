{
  "nbformat": 4,
  "nbformat_minor": 0,
  "metadata": {
    "colab": {
      "name": "LeatherDefectClassificationCNN.ipynb",
      "provenance": [],
      "collapsed_sections": []
    },
    "kernelspec": {
      "name": "python3",
      "display_name": "Python 3"
    },
    "language_info": {
      "name": "python"
    }
  },
  "cells": [
    {
      "cell_type": "code",
      "execution_count": 55,
      "metadata": {
        "id": "DNOZJJSSs90X"
      },
      "outputs": [],
      "source": [
        "import numpy as np\n",
        "import pandas as pd\n",
        "import matplotlib.pyplot as plt\n",
        "\n",
        "import torch\n",
        "from torch import optim, nn\n",
        "import torch.nn.functional as F \n",
        "\n",
        "from torchvision import transforms\n",
        "from torchvision.datasets import ImageFolder\n",
        "from torch.utils.data import TensorDataset, DataLoader, random_split"
      ]
    },
    {
      "cell_type": "code",
      "source": [
        "torch.manual_seed(0)"
      ],
      "metadata": {
        "id": "9VSfMhx7uBnV",
        "colab": {
          "base_uri": "https://localhost:8080/"
        },
        "outputId": "d3a82e40-3c34-4030-dae1-9435f90b772e"
      },
      "execution_count": 56,
      "outputs": [
        {
          "output_type": "execute_result",
          "data": {
            "text/plain": [
              "<torch._C.Generator at 0x7ff195427af0>"
            ]
          },
          "metadata": {},
          "execution_count": 56
        }
      ]
    },
    {
      "cell_type": "code",
      "source": [
        "from google.colab import drive\n",
        "drive.mount('/content/drive')"
      ],
      "metadata": {
        "id": "mYIZWbipuITb",
        "colab": {
          "base_uri": "https://localhost:8080/"
        },
        "outputId": "708f1f32-23be-4e32-fbe9-4a59cda51d72"
      },
      "execution_count": 57,
      "outputs": [
        {
          "output_type": "stream",
          "name": "stdout",
          "text": [
            "Drive already mounted at /content/drive; to attempt to forcibly remount, call drive.mount(\"/content/drive\", force_remount=True).\n"
          ]
        }
      ]
    },
    {
      "cell_type": "code",
      "source": [
        "path = \"drive/MyDrive/Colab Notebooks/Datasets/Leather Defect Classification\"\n",
        "train_test_split = 0.2\n",
        "transform = transforms.Compose([\n",
        "  transforms.ToTensor(),\n",
        "  transforms.Resize((32,32)),\n",
        "  ])\n",
        "dataset = ImageFolder(root=path, transform=transform)\n",
        "size = len(dataset)\n",
        "test_size = int(train_test_split * size)\n",
        "train_size = size - test_size\n",
        "train_dataset, test_dataset = random_split(dataset, [train_size, test_size])"
      ],
      "metadata": {
        "id": "7KKSG2zKu0xT"
      },
      "execution_count": 58,
      "outputs": []
    },
    {
      "cell_type": "code",
      "source": [
        "batch_size = 40\n",
        "train_loader = DataLoader(train_dataset, batch_size=batch_size, shuffle=True)\n",
        "test_loader = DataLoader(test_dataset, batch_size=batch_size, shuffle=False)"
      ],
      "metadata": {
        "id": "39nY3E3mPGoB"
      },
      "execution_count": 59,
      "outputs": []
    },
    {
      "cell_type": "code",
      "source": [
        "class LeatherDefectCNN(nn.Module):\n",
        "  def __init__(self, output_dim):\n",
        "    super(LeatherDefectCNN, self).__init__()\n",
        "\n",
        "    self.conv1 = nn.Conv2d(3, 6, 5)\n",
        "    self.conv2 = nn.Conv2d(6, 16, 5)\n",
        "\n",
        "    self.fc1 = nn.Linear(16*5*5, 120)\n",
        "    self.fc2 = nn.Linear(120, 84)\n",
        "    self.fc3 = nn.Linear(84, output_dim)\n",
        "\n",
        "    self.dropout = nn.Dropout(0.3)\n",
        "\n",
        "  def forward(self, x):\n",
        "    x = F.max_pool2d(F.relu(self.conv1(x)), 2)\n",
        "    x = F.max_pool2d(F.relu(self.conv2(x)), 2)\n",
        "    x = torch.flatten(x, 1) \n",
        "    x = F.relu(self.fc1(x))\n",
        "    x = self.dropout(F.relu(self.fc2(x)))\n",
        "    x = F.softmax(self.fc3(x),dim=1)\n",
        "    return x              "
      ],
      "metadata": {
        "id": "fpz0LPeVtclW"
      },
      "execution_count": 60,
      "outputs": []
    },
    {
      "cell_type": "code",
      "source": [
        "def calc_accuracy(a, y):                            \n",
        "  a = torch.max(a, dim=1)[1]\n",
        "  assert not torch.any(torch.isnan(a))\n",
        "  return torch.mean((a == y).float()).item()"
      ],
      "metadata": {
        "id": "OSWDS9luw85Y"
      },
      "execution_count": 61,
      "outputs": []
    },
    {
      "cell_type": "code",
      "source": [
        "model = LeatherDefectCNN(6)\n",
        "\n",
        "optimizer = optim.Adam(model.parameters(), lr=0.001)"
      ],
      "metadata": {
        "id": "K-A8nXfbtgNI"
      },
      "execution_count": 62,
      "outputs": []
    },
    {
      "cell_type": "code",
      "source": [
        "num_epochs = 25\n",
        "\n",
        "for epoch in range(num_epochs):\n",
        "  for image, label in train_loader:\n",
        "    z = model(image)\n",
        "    loss = F.cross_entropy(z, label)\n",
        "\n",
        "    optimizer.zero_grad()      \n",
        "    loss.backward()\n",
        "    optimizer.step()\n",
        "\n",
        "  test_accuracy = 0\n",
        "  for image, label in test_loader:\n",
        "    z = model(image)\n",
        "    accuracy = calc_accuracy(z, label)\n",
        "    test_accuracy += accuracy / len(test_dataset) * batch_size\n",
        "\n",
        "  print(\"Accuracy: {}\".format(round(100*test_accuracy, 3)))\n",
        "    "
      ],
      "metadata": {
        "id": "-SFzZViwtgsN",
        "colab": {
          "base_uri": "https://localhost:8080/"
        },
        "outputId": "a484dd53-d71b-4b63-8c19-f61e89f5b747"
      },
      "execution_count": 91,
      "outputs": [
        {
          "output_type": "stream",
          "name": "stdout",
          "text": [
            "Accuracy: 49.583\n",
            "Accuracy: 51.111\n",
            "Accuracy: 52.222\n",
            "Accuracy: 50.278\n",
            "Accuracy: 51.667\n",
            "Accuracy: 54.444\n",
            "Accuracy: 52.639\n",
            "Accuracy: 56.528\n",
            "Accuracy: 55.694\n",
            "Accuracy: 53.75\n",
            "Accuracy: 55.278\n",
            "Accuracy: 53.611\n",
            "Accuracy: 56.25\n",
            "Accuracy: 54.306\n",
            "Accuracy: 55.139\n",
            "Accuracy: 55.694\n",
            "Accuracy: 55.556\n",
            "Accuracy: 56.25\n",
            "Accuracy: 57.639\n",
            "Accuracy: 57.917\n",
            "Accuracy: 60.417\n",
            "Accuracy: 53.472\n",
            "Accuracy: 54.861\n",
            "Accuracy: 55.833\n",
            "Accuracy: 58.75\n"
          ]
        }
      ]
    },
    {
      "cell_type": "code",
      "source": [
        "def predict(image):\n",
        "  return torch.max(model(image.unsqueeze(0)), dim=1)[1].item()"
      ],
      "metadata": {
        "id": "H1Fl1J9R_pKZ"
      },
      "execution_count": 92,
      "outputs": []
    },
    {
      "cell_type": "code",
      "source": [
        "import matplotlib.pyplot as plt"
      ],
      "metadata": {
        "id": "VO4atoiXn8pv"
      },
      "execution_count": 93,
      "outputs": []
    },
    {
      "cell_type": "code",
      "source": [
        "test_item = test_dataset[0]\n",
        "plt.imshow(test_item[0].permute(1, 2, 0).numpy(), cmap='gray')\n",
        "print(\"Prediction:\", predict(test_item[0]),\"| Label:\",test_item[1])"
      ],
      "metadata": {
        "colab": {
          "base_uri": "https://localhost:8080/",
          "height": 283
        },
        "id": "vuoy80k7n76m",
        "outputId": "3e37d897-428d-4648-9c3a-6cff560a6e51"
      },
      "execution_count": 94,
      "outputs": [
        {
          "output_type": "stream",
          "name": "stdout",
          "text": [
            "Prediction: 3 | Label: 3\n"
          ]
        },
        {
          "output_type": "display_data",
          "data": {
            "text/plain": [
              "<Figure size 432x288 with 1 Axes>"
            ],
            "image/png": "[encoded data removed]"
          },
          "metadata": {
            "needs_background": "light"
          }
        }
      ]
    },
    {
      "cell_type": "code",
      "source": [
        "test_item = test_dataset[5]\n",
        "plt.imshow(test_item[0].permute(1, 2, 0).numpy(), cmap='gray')\n",
        "print(\"Prediction:\", predict(test_item[0]),\"| Label:\",test_item[1])"
      ],
      "metadata": {
        "colab": {
          "base_uri": "https://localhost:8080/",
          "height": 283
        },
        "outputId": "42cdeda3-5a58-44b5-8b9c-ecce5cacdec7",
        "id": "Elz_xTagwzWp"
      },
      "execution_count": 95,
      "outputs": [
        {
          "output_type": "stream",
          "name": "stdout",
          "text": [
            "Prediction: 0 | Label: 0\n"
          ]
        },
        {
          "output_type": "display_data",
          "data": {
            "text/plain": [
              "<Figure size 432x288 with 1 Axes>"
            ],
            "image/png": "[encoded data removed]"
          },
          "metadata": {
            "needs_background": "light"
          }
        }
      ]
    },
    {
      "cell_type": "code",
      "source": [
        "test_item = test_dataset[100]\n",
        "plt.imshow(test_item[0].permute(1, 2, 0).numpy(), cmap='gray')\n",
        "print(\"Prediction:\", predict(test_item[0]),\"| Label:\",test_item[1])"
      ],
      "metadata": {
        "colab": {
          "base_uri": "https://localhost:8080/",
          "height": 283
        },
        "outputId": "dfe0b269-1439-4e63-b6ec-a716a20d09ce",
        "id": "JS2mYfldwzmL"
      },
      "execution_count": 96,
      "outputs": [
        {
          "output_type": "stream",
          "name": "stdout",
          "text": [
            "Prediction: 0 | Label: 1\n"
          ]
        },
        {
          "output_type": "display_data",
          "data": {
            "text/plain": [
              "<Figure size 432x288 with 1 Axes>"
            ],
            "image/png": "[encoded data removed]"
          },
          "metadata": {
            "needs_background": "light"
          }
        }
      ]
    },
    {
      "cell_type": "code",
      "source": [
        "test_item = test_dataset[178]\n",
        "plt.imshow(test_item[0].permute(1, 2, 0).numpy(), cmap='gray')\n",
        "print(\"Prediction:\", predict(test_item[0]),\"| Label:\",test_item[1])"
      ],
      "metadata": {
        "colab": {
          "base_uri": "https://localhost:8080/",
          "height": 283
        },
        "outputId": "1d40c171-7507-429e-a857-de1c520d5d24",
        "id": "azdrtM5Pwzux"
      },
      "execution_count": 97,
      "outputs": [
        {
          "output_type": "stream",
          "name": "stdout",
          "text": [
            "Prediction: 4 | Label: 4\n"
          ]
        },
        {
          "output_type": "display_data",
          "data": {
            "text/plain": [
              "<Figure size 432x288 with 1 Axes>"
            ],
            "image/png": "[encoded data removed]"
          },
          "metadata": {
            "needs_background": "light"
          }
        }
      ]
    },
    {
      "cell_type": "code",
      "source": [
        "test_item = test_dataset[420]\n",
        "plt.imshow(test_item[0].permute(1, 2, 0).numpy(), cmap='gray')\n",
        "print(\"Prediction:\", predict(test_item[0]),\"| Label:\",test_item[1])"
      ],
      "metadata": {
        "colab": {
          "base_uri": "https://localhost:8080/",
          "height": 283
        },
        "outputId": "286b0327-2ddc-4005-95ef-58fd50d4481b",
        "id": "9HVv33oWwz4L"
      },
      "execution_count": 98,
      "outputs": [
        {
          "output_type": "stream",
          "name": "stdout",
          "text": [
            "Prediction: 2 | Label: 0\n"
          ]
        },
        {
          "output_type": "display_data",
          "data": {
            "text/plain": [
              "<Figure size 432x288 with 1 Axes>"
            ],
            "image/png": "[encoded data removed]"
          },
          "metadata": {
            "needs_background": "light"
          }
        }
      ]
    },
    {
      "cell_type": "code",
      "source": [
        "test_item = test_dataset[42]\n",
        "plt.imshow(test_item[0].permute(1, 2, 0).numpy(), cmap='gray')\n",
        "print(\"Prediction:\", predict(test_item[0]),\"| Label:\",test_item[1])"
      ],
      "metadata": {
        "colab": {
          "base_uri": "https://localhost:8080/",
          "height": 283
        },
        "outputId": "68c1a726-4dd6-4e41-aeed-b631d572d951",
        "id": "JIEWOsOXw0DS"
      },
      "execution_count": 99,
      "outputs": [
        {
          "output_type": "stream",
          "name": "stdout",
          "text": [
            "Prediction: 0 | Label: 5\n"
          ]
        },
        {
          "output_type": "display_data",
          "data": {
            "text/plain": [
              "<Figure size 432x288 with 1 Axes>"
            ],
            "image/png": "[encoded data removed]"
          },
          "metadata": {
            "needs_background": "light"
          }
        }
      ]
    }
  ]
}