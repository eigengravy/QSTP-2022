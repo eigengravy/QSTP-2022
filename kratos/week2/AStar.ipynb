{
  "nbformat": 4,
  "nbformat_minor": 0,
  "metadata": {
    "colab": {
      "name": "AStar.ipynb",
      "provenance": [],
      "collapsed_sections": []
    },
    "kernelspec": {
      "name": "python3",
      "display_name": "Python 3"
    },
    "language_info": {
      "name": "python"
    }
  },
  "cells": [
    {
      "cell_type": "code",
      "source": [
        "import matplotlib.pyplot as plt"
      ],
      "metadata": {
        "id": "KeP2U6SC86iw"
      },
      "execution_count": 90,
      "outputs": []
    },
    {
      "cell_type": "code",
      "source": [
        "rows = 10\n",
        "cols = 10\n",
        "obstacles = [(6,4),(7,4),(8,4),(6,5),(6,6),(8,5)]\n",
        "map = [ [True if (j,i) in obstacles else False for i in range(cols)] for j in range(rows)]"
      ],
      "metadata": {
        "id": "UkiENvEaCKma"
      },
      "execution_count": 91,
      "outputs": []
    },
    {
      "cell_type": "code",
      "source": [
        "class Node:\n",
        "  def __init__(self, x, y, isObstacle=False):\n",
        "    self.f = 0\n",
        "    self.g = 0\n",
        "    self.h = 0\n",
        "\n",
        "    self.x = x\n",
        "    self.y = y\n",
        "\n",
        "    self.prev = None\n",
        "    self.isObstacle = isObstacle\n",
        "\n",
        "  def find_neighbours(self, grid):\n",
        "    x,y = self.x, self.y\n",
        "    coordinates = [(x+1,y),(x-1,y),(x,y+1),(x,y-1)]\n",
        "\n",
        "    def validate_node(coordinate):\n",
        "      if coordinate[0] < 0 or coordinate[1] < 0 or coordinate[0] >= cols or coordinate[1] >= rows or grid[coordinate[1]][coordinate[0]].isObstacle:\n",
        "          return False\n",
        "      return True\n",
        "\n",
        "    neighbours = [grid[coordinate[1]][coordinate[0]] for coordinate in coordinates if validate_node(coordinate)]\n",
        "    return neighbours"
      ],
      "metadata": {
        "id": "GkZ_KjBl7IdP"
      },
      "execution_count": 92,
      "outputs": []
    },
    {
      "cell_type": "code",
      "source": [
        "grid = [ [Node(i,j, map[i][j]) for i in range(cols)] for j in range(rows)]\n",
        "start = grid[0][0]\n",
        "end = grid[5][7]\n",
        "openSet = [start,]\n",
        "closedSet = []"
      ],
      "metadata": {
        "id": "prJnpglc7pKz"
      },
      "execution_count": 93,
      "outputs": []
    },
    {
      "cell_type": "code",
      "source": [
        "while len(openSet)>0:\n",
        "\n",
        "  current = min(openSet, key = lambda node: node.f)\n",
        "  if current == end:\n",
        "    print(\"Reached\")\n",
        "    break\n",
        "  openSet.remove(current)\n",
        "  closedSet.append(current)\n",
        "  neighbours = current.find_neighbours(grid)\n",
        "\n",
        "  for neighbour in neighbours:\n",
        "    if neighbour in closedSet:\n",
        "      continue\n",
        "    g = current.g + 1\n",
        "    if neighbour not in openSet:\n",
        "      openSet.append(neighbour)\n",
        "    elif g >= neighbour.g:\n",
        "        continue\n",
        "      \n",
        "    neighbour.g = g\n",
        "    neighbour.h = (abs(neighbour.x-end.x) + abs(neighbour.y-end.y))\n",
        "    neighbour.f = neighbour.g + neighbour.h\n",
        "    neighbour.prev = current"
      ],
      "metadata": {
        "colab": {
          "base_uri": "https://localhost:8080/"
        },
        "id": "wfgRG0Qn8AzK",
        "outputId": "2d894dce-3f7f-42a8-b2a3-66f95974aa70"
      },
      "execution_count": 94,
      "outputs": [
        {
          "output_type": "stream",
          "name": "stdout",
          "text": [
            "Reached\n"
          ]
        }
      ]
    },
    {
      "cell_type": "code",
      "source": [
        "for row in grid:\n",
        "  for node in row:\n",
        "    plt.scatter(node.x, node.y, c=\"cyan\" if node.isObstacle else \"black\")\n",
        "for node in openSet:\n",
        "  plt.scatter(node.x, node.y, c=\"green\")\n",
        "for node in closedSet:\n",
        "  plt.scatter(node.x, node.y, c=\"red\")\n",
        "\n",
        "path = end\n",
        "while path is not None:\n",
        "  plt.scatter(path.x,path.y, c=\"blue\")\n",
        "  path = path.prev\n",
        "\n",
        "plt.scatter(start.x, start.y, c=\"yellow\")\n",
        "plt.scatter(end.x, end.y, c=\"yellow\")\n",
        "plt.show()"
      ],
      "metadata": {
        "colab": {
          "base_uri": "https://localhost:8080/",
          "height": 265
        },
        "id": "gx2voPQNF8fH",
        "outputId": "6797878c-3766-4a2f-d235-62a5d80c32ed"
      },
      "execution_count": 95,
      "outputs": [
        {
          "output_type": "display_data",
          "data": {
            "text/plain": [
              "<Figure size 432x288 with 1 Axes>"
            ],
            "image/png": "[encoded data removed]"
          },
          "metadata": {
            "needs_background": "light"
          }
        }
      ]
    }
  ]
}