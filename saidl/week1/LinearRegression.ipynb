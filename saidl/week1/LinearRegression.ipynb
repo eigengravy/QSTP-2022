{
  "nbformat": 4,
  "nbformat_minor": 0,
  "metadata": {
    "colab": {
      "name": "LinearRegression",
      "provenance": [],
      "collapsed_sections": []
    },
    "kernelspec": {
      "name": "python3",
      "display_name": "Python 3"
    },
    "language_info": {
      "name": "python"
    }
  },
  "cells": [
    {
      "cell_type": "code",
      "source": [
        "import pandas as pd\n",
        "from sklearn.model_selection import train_test_split\n",
        "from sklearn.linear_model import LinearRegression\n",
        "from sklearn.metrics import r2_score"
      ],
      "metadata": {
        "id": "rF1cyzAFqwML"
      },
      "execution_count": 15,
      "outputs": []
    },
    {
      "cell_type": "code",
      "execution_count": 3,
      "metadata": {
        "id": "jUPiSoXcpTDA"
      },
      "outputs": [],
      "source": [
        "num_features = 4\n",
        "num_targets = 1\n",
        "df = pd.read_csv(\"/content/QSTP_LinReg.csv\")"
      ]
    },
    {
      "cell_type": "code",
      "source": [
        "y = df['PE'].values\n",
        "X = df.drop(['PE'],axis=1).values"
      ],
      "metadata": {
        "id": "IHi3AwF0rJ10"
      },
      "execution_count": 10,
      "outputs": []
    },
    {
      "cell_type": "code",
      "source": [
        "train_X, test_X, train_y, test_y = train_test_split(X, y, test_size=0.2, random_state=0)"
      ],
      "metadata": {
        "id": "ddGPDRywrqfZ"
      },
      "execution_count": 14,
      "outputs": []
    },
    {
      "cell_type": "code",
      "source": [
        "regressor = LinearRegression(fit_intercept=True)\n",
        "model = regressor.fit(train_X,train_y)\n",
        "prediction = model.predict(test_X)"
      ],
      "metadata": {
        "id": "UWXXr9q1tFBx"
      },
      "execution_count": 25,
      "outputs": []
    },
    {
      "cell_type": "code",
      "source": [
        "r2_score(test_y,prediction)"
      ],
      "metadata": {
        "colab": {
          "base_uri": "https://localhost:8080/"
        },
        "id": "2oFc8SditdlI",
        "outputId": "11fe3140-d562-43cf-a0c1-4d55b3848839"
      },
      "execution_count": 26,
      "outputs": [
        {
          "output_type": "execute_result",
          "data": {
            "text/plain": [
              "0.9325315554761303"
            ]
          },
          "metadata": {},
          "execution_count": 26
        }
      ]
    }
  ]
}