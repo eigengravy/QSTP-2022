{
  "nbformat": 4,
  "nbformat_minor": 0,
  "metadata": {
    "colab": {
      "name": "LogisticRegression.ipynb",
      "provenance": [],
      "collapsed_sections": []
    },
    "kernelspec": {
      "name": "python3",
      "display_name": "Python 3"
    },
    "language_info": {
      "name": "python"
    }
  },
  "cells": [
    {
      "cell_type": "code",
      "execution_count": null,
      "metadata": {
        "id": "v1dqCdR230m3"
      },
      "outputs": [],
      "source": [
        "import pandas as pd\n",
        "import numpy as np\n",
        "from sklearn.model_selection import train_test_split\n",
        "from sklearn.linear_model import LogisticRegression\n",
        "from sklearn.metrics import accuracy_score, confusion_matrix\n",
        "from sklearn.preprocessing import MinMaxScaler"
      ]
    },
    {
      "cell_type": "code",
      "source": [
        "df = pd.read_csv(\"/content/QSTP_LogReg.csv\")\n",
        "scaler=MinMaxScaler()\n",
        "df_scaled = pd.DataFrame(scaler.fit_transform(df), columns=df.columns)\n",
        "y = df_scaled['Class'].values\n",
        "X = df_scaled.drop(['Class','Sample code number'],axis=1).values\n",
        "df += np.ones(df.shape[:]) \n",
        "train_X, test_X, train_y, test_y = train_test_split(X, y, test_size=0.2, random_state=0)"
      ],
      "metadata": {
        "id": "VRiQAhV94nbs"
      },
      "execution_count": null,
      "outputs": []
    },
    {
      "cell_type": "code",
      "source": [
        "# scikit model\n",
        "\n",
        "classifier = LogisticRegression()\n",
        "model = classifier.fit(train_X,train_y)\n",
        "prediction = model.predict(test_X)"
      ],
      "metadata": {
        "id": "rIYuuAfp49O1"
      },
      "execution_count": null,
      "outputs": []
    },
    {
      "cell_type": "code",
      "source": [
        "accuracy_score(test_y, prediction)"
      ],
      "metadata": {
        "colab": {
          "base_uri": "https://localhost:8080/"
        },
        "id": "aBmZvmHPjQ9-",
        "outputId": "36a98c59-f82f-4cbf-e7ce-d17d92c57f20"
      },
      "execution_count": null,
      "outputs": [
        {
          "output_type": "execute_result",
          "data": {
            "text/plain": [
              "0.9416058394160584"
            ]
          },
          "metadata": {},
          "execution_count": 211
        }
      ]
    },
    {
      "cell_type": "code",
      "source": [
        "confusion_matrix(test_y, prediction)"
      ],
      "metadata": {
        "colab": {
          "base_uri": "https://localhost:8080/"
        },
        "id": "pOejO0lqjRKh",
        "outputId": "57846305-1575-430c-d532-38d9f7fce283"
      },
      "execution_count": null,
      "outputs": [
        {
          "output_type": "execute_result",
          "data": {
            "text/plain": [
              "array([[84,  3],\n",
              "       [ 5, 45]])"
            ]
          },
          "metadata": {},
          "execution_count": 212
        }
      ]
    },
    {
      "cell_type": "code",
      "source": [
        "# numpy model\n",
        "\n",
        "def sigmoid(x):\n",
        "  return float(1.0 / float((1.0 + np.exp(-1.0*x))))\n",
        "\n",
        "sigmoid_v = np.vectorize(sigmoid)\n",
        "\n",
        "class GradientDescentLogisticRegression():\n",
        "  def __init__(self, num_targets, num_features, learning_rate, epochs):\n",
        "    self.num_features = num_features\n",
        "    self.num_targets = num_targets \n",
        "    self.learning_rate = learning_rate\n",
        "    self.epochs = epochs\n",
        "\n",
        "  def fit(self, X, y):\n",
        "    n=X.shape[0]\n",
        "    np.random.seed(0)\n",
        "    self.W = np.random.normal(size=(self.num_targets, self.num_features))\n",
        "\n",
        "    def cost_fn(_y, _y_hat):\n",
        "      error = (-_y*np.log(_y_hat)) - ((1-_y)*np.log(1-_y_hat))\n",
        "      cost=(1/n)*np.sum(error)\n",
        "      return cost,error\n",
        "\n",
        "    total_expected_error=float(\"inf\")\n",
        "    for epoch in range(self.epochs):\n",
        "      y_hat = np.array([sigmoid_v(np.dot(self.W, X[i].reshape(-1, 1))) for i in range(n)]).squeeze()\n",
        "      cost, error = cost_fn(y.reshape(-1, 1),y_hat)\n",
        "      if (total_expected_error<cost):\n",
        "        return\n",
        "      total_expected_error = cost\n",
        "      \n",
        "      gradient = X.T.dot(error)/n\n",
        "      for (i,w) in enumerate(gradient):\n",
        "        self.W -= self.learning_rate * w[i]\n",
        "\n",
        "  def predict(self, X):\n",
        "    prediction = np.array([sigmoid_v(np.dot(self.W, X_i.reshape(-1, 1))) for X_i in X]).squeeze()\n",
        "    return np.array(list(map(lambda x: 1.0 if x>0.8 else 0.0, prediction)))"
      ],
      "metadata": {
        "id": "PKoCLWZT5K-r"
      },
      "execution_count": null,
      "outputs": []
    },
    {
      "cell_type": "code",
      "source": [
        "classifier = GradientDescentLogisticRegression(1,9,0.00005,1000)\n",
        "classifier.fit(train_X, train_y)\n",
        "prediction = classifier.predict(test_X)"
      ],
      "metadata": {
        "id": "_svL91jTIBzr"
      },
      "execution_count": null,
      "outputs": []
    },
    {
      "cell_type": "code",
      "source": [
        "accuracy_score(test_y, prediction)"
      ],
      "metadata": {
        "colab": {
          "base_uri": "https://localhost:8080/"
        },
        "id": "aCK7xgOwjHO_",
        "outputId": "2a9f0a9a-33a2-48b0-e0c6-4965e3cb22fb"
      },
      "execution_count": null,
      "outputs": [
        {
          "output_type": "execute_result",
          "data": {
            "text/plain": [
              "0.9124087591240876"
            ]
          },
          "metadata": {},
          "execution_count": 215
        }
      ]
    },
    {
      "cell_type": "code",
      "source": [
        "confusion_matrix(test_y, prediction)"
      ],
      "metadata": {
        "colab": {
          "base_uri": "https://localhost:8080/"
        },
        "id": "nyduVarQjHfn",
        "outputId": "ecf18755-3895-466f-b9db-9a31d7bf27b2"
      },
      "execution_count": null,
      "outputs": [
        {
          "output_type": "execute_result",
          "data": {
            "text/plain": [
              "array([[76, 11],\n",
              "       [ 1, 49]])"
            ]
          },
          "metadata": {},
          "execution_count": 216
        }
      ]
    }
  ]
}