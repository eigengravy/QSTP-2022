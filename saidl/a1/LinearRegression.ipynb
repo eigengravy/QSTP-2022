{
  "nbformat": 4,
  "nbformat_minor": 0,
  "metadata": {
    "colab": {
      "name": "LinearRegression.ipynb",
      "provenance": [],
      "collapsed_sections": []
    },
    "kernelspec": {
      "name": "python3",
      "display_name": "Python 3"
    },
    "language_info": {
      "name": "python"
    }
  },
  "cells": [
    {
      "cell_type": "code",
      "source": [
        "import pandas as pd\n",
        "import numpy as np\n",
        "from sklearn.model_selection import train_test_split\n",
        "from sklearn.linear_model import LinearRegression\n",
        "from sklearn.metrics import r2_score\n",
        "from sklearn.preprocessing import MaxAbsScaler"
      ],
      "metadata": {
        "id": "rF1cyzAFqwML"
      },
      "execution_count": 148,
      "outputs": []
    },
    {
      "cell_type": "code",
      "execution_count": 149,
      "metadata": {
        "id": "jUPiSoXcpTDA"
      },
      "outputs": [],
      "source": [
        "# data processing\n",
        "\n",
        "num_features = 4\n",
        "num_targets = 1\n",
        "\n",
        "df = pd.read_csv(\"/content/QSTP_LinReg.csv\")\n",
        "scaler=MaxAbsScaler()\n",
        "df_scaled = pd.DataFrame(scaler.fit_transform(df), columns=df.columns)\n",
        "\n",
        "y = df_scaled['PE'].values\n",
        "X = df_scaled.drop(['PE'],axis=1).values\n",
        "\n",
        "train_X, test_X, train_y, test_y = train_test_split(X, y, \n",
        "                                                    test_size=0.2, \n",
        "                                                    random_state=0)"
      ]
    },
    {
      "cell_type": "code",
      "source": [
        "# scikit model\n",
        "\n",
        "regressor = LinearRegression(fit_intercept=True)\n",
        "model = regressor.fit(train_X,train_y)\n",
        "prediction = model.predict(test_X)\n",
        "r2_score(test_y,prediction)"
      ],
      "metadata": {
        "id": "UWXXr9q1tFBx",
        "colab": {
          "base_uri": "https://localhost:8080/"
        },
        "outputId": "31c2fd5f-f5e3-49c5-caed-fdd0d7d8b2d2"
      },
      "execution_count": 150,
      "outputs": [
        {
          "output_type": "execute_result",
          "data": {
            "text/plain": [
              "0.9325315554761302"
            ]
          },
          "metadata": {},
          "execution_count": 150
        }
      ]
    },
    {
      "cell_type": "code",
      "source": [
        "# numpy model\n",
        "\n",
        "class GradientDescentLinearRegression:\n",
        "\n",
        "  def __init__(self, num_targets, num_features, learning_rate, epochs):\n",
        "    self.num_features = num_features\n",
        "    self.num_targets = num_targets \n",
        "    self.learning_rate = learning_rate\n",
        "    self.epochs = epochs\n",
        "  \n",
        "  def fit(self, X, y):\n",
        "    n = X.shape[0]\n",
        "    np.random.seed(0)\n",
        "    self.W = np.random.normal(size=(self.num_targets, self.num_features))\n",
        "    self.b = np.random.normal(size=(self.num_targets, 1))\n",
        "    for epoch in range(self.epochs):\n",
        "      for i in range(n):\n",
        "        X_i, y_i = X[i].reshape(-1, 1), y[i].reshape(-1, 1)\n",
        "        y_hat = np.dot(self.W, X_i) + self.b\n",
        "        \n",
        "        dL_dy = 2*(y_hat-y_i)\n",
        "        dy_dW = X_i\n",
        "        dy_db = 1\n",
        "    \n",
        "        dL_dW = np.dot(dL_dy, dy_dW.T)\n",
        "        dL_db = dL_dy * dy_db\n",
        "    \n",
        "        self.W -= self.learning_rate * dL_dW\n",
        "        self.b -= self.learning_rate * dL_db\n",
        "      \n",
        "  def predict(self, X):\n",
        "    return np.array([np.dot(self.W, X_i) + self.b for X_i in X]).squeeze()\n"
      ],
      "metadata": {
        "id": "nh6QuBN_CUoP"
      },
      "execution_count": 151,
      "outputs": []
    },
    {
      "cell_type": "code",
      "source": [
        "learning_rate =   0.001  \n",
        "epochs = 500 \n",
        "\n",
        "regressor = GradientDescentLinearRegression(num_targets=1,\n",
        "                                            num_features=4,\n",
        "                                            epochs=epochs,\n",
        "                                            learning_rate=learning_rate)\n",
        "regressor.fit(train_X, train_y)\n",
        "\n",
        "prediction = regressor.predict(test_X)\n",
        "r2_score(test_y,prediction)"
      ],
      "metadata": {
        "colab": {
          "base_uri": "https://localhost:8080/"
        },
        "id": "_ud0Q7t6HS1o",
        "outputId": "9963c13b-e93a-4bf4-8106-a64da4a07cfb"
      },
      "execution_count": 152,
      "outputs": [
        {
          "output_type": "execute_result",
          "data": {
            "text/plain": [
              "0.9325335107778785"
            ]
          },
          "metadata": {},
          "execution_count": 152
        }
      ]
    }
  ]
}